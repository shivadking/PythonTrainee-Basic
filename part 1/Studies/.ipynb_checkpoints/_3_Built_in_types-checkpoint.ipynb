{
 "cells": [
  {
   "cell_type": "markdown",
   "metadata": {
    "slideshow": {
     "slide_type": "slide"
    }
   },
   "source": [
    "# Built-in types"
   ]
  },
  {
   "cell_type": "markdown",
   "metadata": {
    "slideshow": {
     "slide_type": "slide"
    }
   },
   "source": [
    "There are a lot of built-in types in Python (types for which built-in function `type()` shows different result). Full list can be found here:\n",
    "\n",
    "https://docs.python.org/3/library/stdtypes.html\n",
    "\n",
    "The ones that will be described here are:\n",
    "* Numeric types - `int`, `float`, `complex`\n",
    "* String - `str`\n",
    "* Containers - `list`, `dict`, `tuple`, `set`, `frozenset`\n",
    "* `bool`\n",
    "* `None`\n",
    "* Files"
   ]
  },
  {
   "cell_type": "code",
   "execution_count": null,
   "metadata": {
    "slideshow": {
     "slide_type": "slide"
    }
   },
   "outputs": [],
   "source": [
    "a = 5\n",
    "print(type(a))"
   ]
  },
  {
   "cell_type": "markdown",
   "metadata": {
    "slideshow": {
     "slide_type": "slide"
    }
   },
   "source": [
    "### Numeric types"
   ]
  },
  {
   "cell_type": "markdown",
   "metadata": {
    "slideshow": {
     "slide_type": "slide"
    }
   },
   "source": [
    "##### Notations"
   ]
  },
  {
   "cell_type": "code",
   "execution_count": null,
   "metadata": {
    "slideshow": {
     "slide_type": "fragment"
    }
   },
   "outputs": [],
   "source": [
    "print(\"Integers notation: {}, {}, {}, {}, {}\".format(2, 0b10, 0x02, int('2'), 10**10))"
   ]
  },
  {
   "cell_type": "code",
   "execution_count": null,
   "metadata": {
    "slideshow": {
     "slide_type": "fragment"
    }
   },
   "outputs": [],
   "source": [
    "print(\"Hex and binary notation: {}, {}\".format(hex(16), bin(16)))"
   ]
  },
  {
   "cell_type": "code",
   "execution_count": null,
   "metadata": {
    "slideshow": {
     "slide_type": "fragment"
    }
   },
   "outputs": [],
   "source": [
    "print(\"Floats notation: {}, {}, {}, {}, {}, {}\".format(1.3, 10., .01, 5.0e-4, type(5.0e-5), float(4)))"
   ]
  },
  {
   "cell_type": "code",
   "execution_count": null,
   "metadata": {
    "slideshow": {
     "slide_type": "fragment"
    }
   },
   "outputs": [],
   "source": [
    "print(\"Complex notation: {}, {}\".format(3.14j, complex('1+2j')))"
   ]
  },
  {
   "cell_type": "markdown",
   "metadata": {
    "slideshow": {
     "slide_type": "slide"
    }
   },
   "source": [
    "#### Operations"
   ]
  },
  {
   "cell_type": "markdown",
   "metadata": {
    "slideshow": {
     "slide_type": "fragment"
    }
   },
   "source": [
    "All numeric types support basic operations:\n",
    "\n",
    "`+`, `-`, `*`, `/`, `%`, `//` (div) and `**` (power)"
   ]
  },
  {
   "cell_type": "code",
   "execution_count": null,
   "metadata": {
    "slideshow": {
     "slide_type": "fragment"
    }
   },
   "outputs": [],
   "source": [
    "print(\"Division: {}, {}, {}\".format(10/3, 10/3.0, 10//3.0))\n",
    "\n"
   ]
  },
  {
   "cell_type": "code",
   "execution_count": null,
   "metadata": {
    "slideshow": {
     "slide_type": "slide"
    }
   },
   "outputs": [],
   "source": [
    "print(\"Power: {}\".format(4**3))\n",
    "print(\"Pow: {}\".format(pow(4,3)))\n",
    "print(\"The absolute value: {}\".format(abs(-10)))\n",
    "print(\"Modulo: {}\".format(5%2))\n",
    "print(\"Divmod: {}\".format(divmod(5,2)))"
   ]
  },
  {
   "cell_type": "code",
   "execution_count": null,
   "metadata": {
    "slideshow": {
     "slide_type": "fragment"
    }
   },
   "outputs": [],
   "source": [
    "from math import sqrt\n",
    "print(\"Squere root: {}\".format(sqrt(4), ))"
   ]
  },
  {
   "cell_type": "code",
   "execution_count": null,
   "metadata": {
    "slideshow": {
     "slide_type": "fragment"
    }
   },
   "outputs": [],
   "source": [
    "import math\n",
    "print(\"Ceiling of real number: {0}, Floor of real number: {1}\".format(math.ceil(5.4), math.floor(5.4)))"
   ]
  },
  {
   "cell_type": "code",
   "execution_count": null,
   "metadata": {
    "slideshow": {
     "slide_type": "skip"
    }
   },
   "outputs": [],
   "source": [
    "a=0.1\n",
    "b=0.3\n",
    "print(a*3-b == 0)"
   ]
  },
  {
   "cell_type": "markdown",
   "metadata": {
    "hidePrompt": false,
    "slideshow": {
     "slide_type": "skip"
    }
   },
   "source": [
    "Why it is not 0?\n",
    "\n",
    "https://docs.python.org/3/tutorial/floatingpoint.html"
   ]
  },
  {
   "cell_type": "code",
   "execution_count": null,
   "metadata": {
    "slideshow": {
     "slide_type": "skip"
    }
   },
   "outputs": [],
   "source": [
    "print(\"a*3-b = %f\" % (a*3-b))"
   ]
  },
  {
   "cell_type": "code",
   "execution_count": null,
   "metadata": {
    "slideshow": {
     "slide_type": "skip"
    }
   },
   "outputs": [],
   "source": [
    "print(\"a*3-b = %s\" % (a*3-b))\n",
    "print(\"a*3-b = %.32f\" % (a*3-b))\n",
    "print(\"a = %.32f\" % 0.1)\n",
    "print(\"b = %.32f\" % 0.3)"
   ]
  },
  {
   "cell_type": "code",
   "execution_count": null,
   "metadata": {
    "slideshow": {
     "slide_type": "skip"
    }
   },
   "outputs": [],
   "source": [
    "from decimal import Decimal\n",
    "a=Decimal('0.1')\n",
    "b=Decimal(str(0.3))\n",
    "print(a*3-b)\n",
    "print(a*3-b == 0)"
   ]
  },
  {
   "cell_type": "code",
   "execution_count": null,
   "metadata": {
    "slideshow": {
     "slide_type": "fragment"
    }
   },
   "outputs": [],
   "source": [
    "a=0b10010111\n",
    "print(a)\n",
    "print(bin(a>>2))\n",
    "print(a>>2)\n",
    "print(f\"Binary represenation: {bin(a>>2)} & 0b000111 = {bin((a >> 2) & 0b000111)}\")\n",
    "print(f\"Decimal: {a >> 2 & 0b000111}\")"
   ]
  },
  {
   "cell_type": "markdown",
   "metadata": {
    "slideshow": {
     "slide_type": "slide"
    }
   },
   "source": [
    "### Strings"
   ]
  },
  {
   "cell_type": "code",
   "execution_count": null,
   "metadata": {
    "slideshow": {
     "slide_type": "slide"
    }
   },
   "outputs": [],
   "source": [
    "a = \"first string\"\n",
    "b = 'second string'\n",
    "c = \"\"\"third \n",
    "\n",
    "string\"\"\"\n",
    "d = 5\n",
    "e = a + str(d)\n",
    "print(e)\n",
    "print(e[0])"
   ]
  },
  {
   "cell_type": "code",
   "execution_count": null,
   "metadata": {
    "slideshow": {
     "slide_type": "fragment"
    }
   },
   "outputs": [],
   "source": [
    "print(\"Acsci value for 'a': {}\".format(ord('a')))\n",
    "print(\"Get character from asci vlaue 97: {}\".format(chr(97)))"
   ]
  },
  {
   "cell_type": "markdown",
   "metadata": {
    "slideshow": {
     "slide_type": "slide"
    }
   },
   "source": [
    "#### Printing strings"
   ]
  },
  {
   "cell_type": "code",
   "execution_count": null,
   "metadata": {
    "slideshow": {
     "slide_type": "fragment"
    }
   },
   "outputs": [],
   "source": [
    "print(\"a, b, c, d values: %s %d %s %1.2f\" % (a, 5, 4.444, 4.444))"
   ]
  },
  {
   "cell_type": "code",
   "execution_count": null,
   "metadata": {
    "slideshow": {
     "slide_type": "fragment"
    }
   },
   "outputs": [],
   "source": [
    "print(\"First use\", 'x', 'y')\n",
    "print(\"Second use {0}, {0}, {0}\".format(1, 2, 3, 4))\n",
    "print(\"Third use {0}, {1}, {2}\".format(*\"abc\"))"
   ]
  },
  {
   "cell_type": "markdown",
   "metadata": {
    "slideshow": {
     "slide_type": "fragment"
    }
   },
   "source": [
    "In Python 3.6 the [formatted string literals](https://docs.python.org/3/reference/lexical_analysis.html#f-strings) or f-strings are introduced. An f-string is a string literal that is prefixed with 'f' or 'F'. These strings may contain replacement fields, which are expressions delimited by curly braces {}. While other string literals always have a constant value, formatted strings are really expressions evaluated at run time."
   ]
  },
  {
   "cell_type": "code",
   "execution_count": null,
   "metadata": {
    "slideshow": {
     "slide_type": "slide"
    }
   },
   "outputs": [],
   "source": [
    "name = 'foo'\n",
    "surname = 'bar'\n",
    "age = 18\n",
    "print(f'my name is {name} {surname} and i am {age} yo') # ONLY IN Python 3.6+ !!!"
   ]
  },
  {
   "cell_type": "code",
   "execution_count": null,
   "metadata": {
    "slideshow": {
     "slide_type": "fragment"
    }
   },
   "outputs": [],
   "source": [
    "width = 10\n",
    "precision = 4\n",
    "value = 12.34567\n",
    "print(F\"result: {value:{width}.{precision}f}\")  # nested fields; ONLY IN Python 3.6+ !!!"
   ]
  },
  {
   "cell_type": "markdown",
   "metadata": {
    "slideshow": {
     "slide_type": "slide"
    }
   },
   "source": [
    "#### Joining strings"
   ]
  },
  {
   "cell_type": "code",
   "execution_count": null,
   "metadata": {
    "slideshow": {
     "slide_type": "fragment"
    }
   },
   "outputs": [],
   "source": [
    "print(\"Using '+' operator: :\" + \"abc\" + \"d\" + \"ef\")\n",
    "print(\"Using 'join' function: {0}\".format(\",\".join(\"abcef\")) )# first is string separator\n",
    "print(\":\".join([\"abc\", \"d\", \"ef\"]))\n",
    "print(\"Using formatting: \" + '%s %d' % (\"Test\", 5))\n",
    "string_list = [\"Join\", \"string\", \"list\"]\n",
    "print(\"5\"*3)\n",
    "final_string = ('%s '*len(string_list) % tuple(string_list))\n",
    "print(final_string)"
   ]
  },
  {
   "cell_type": "code",
   "execution_count": null,
   "metadata": {
    "slideshow": {
     "slide_type": "slide"
    }
   },
   "outputs": [],
   "source": [
    "very_big_string =   \"Verrrrry\" +\\\n",
    "\"Veeeeeeeeeeeeeeeeeery\" +\\\n",
    "                    \"biiiiiiiiiiiiig\" + \"striiiiiiing\"\n",
    "print(very_big_string)"
   ]
  },
  {
   "cell_type": "code",
   "execution_count": null,
   "metadata": {
    "slideshow": {
     "slide_type": "fragment"
    }
   },
   "outputs": [],
   "source": [
    "hello_world = \"hello\" \" \" \"world\"\n",
    "print(hello_world)"
   ]
  },
  {
   "cell_type": "code",
   "execution_count": null,
   "metadata": {
    "slideshow": {
     "slide_type": "fragment"
    }
   },
   "outputs": [],
   "source": [
    "hello = \"hello\"\n",
    "world = \"world\"\n",
    "hello_world = hello world\n",
    "print(hello_world)"
   ]
  },
  {
   "cell_type": "markdown",
   "metadata": {
    "slideshow": {
     "slide_type": "fragment"
    }
   },
   "source": [
    "Why is the above not working? See: https://docs.python.org/3/reference/lexical_analysis.html#string-literal-concatenation"
   ]
  },
  {
   "cell_type": "markdown",
   "metadata": {
    "slideshow": {
     "slide_type": "slide"
    }
   },
   "source": [
    "#### Slicing"
   ]
  },
  {
   "cell_type": "raw",
   "metadata": {
    "slideshow": {
     "slide_type": "slide"
    }
   },
   "source": [
    "Rules:\n",
    "\n",
    "a[start:end]      # items start through end-1\n",
    "a[start:]         # items start through the rest of the array\n",
    "a[:end]           # items from the beginning through end-1\n",
    "a[:]              # a copy of the whole array\n",
    "a[start:end:step] # start through not past end, by step. Applicable to all        above\n",
    "a[-1]             # last item in the array\n",
    "a[-2:]            # last two items in the array\n",
    "a[:-2]            # everything except the last two items\n",
    "\n",
    "indexes from 0!"
   ]
  },
  {
   "cell_type": "code",
   "execution_count": null,
   "metadata": {
    "slideshow": {
     "slide_type": "slide"
    }
   },
   "outputs": [],
   "source": [
    "string = \"ABCD\"\n",
    "# indices:\n",
    "#    0   1   2   3   \n",
    "#  | A | B | C | D |\n",
    "print(string[1:3])    # from 1 to 3 (end just before 3)\n",
    "print(string[0:2])    # from 0 to 2 \n",
    "print(string[2:])     # from 2 to end\n",
    "print(string[:])      # from start to end\n",
    "print(string[0:3:2])  # from 0 to 2 with step 2\n",
    "print(string[1:5])    # from 1 to 3"
   ]
  },
  {
   "cell_type": "code",
   "execution_count": null,
   "metadata": {
    "slideshow": {
     "slide_type": "slide"
    }
   },
   "outputs": [],
   "source": [
    "string = \"ABCD\"\n",
    "# Think of negative indices as indices ordered right to left starting from -1:\n",
    "#    0   1   2   3  \n",
    "#  | A | B | C | D |\n",
    "#   -4  -3  -2  -1 \n",
    "print(string[-3:-1])  # from -3 to -1 (without that -1/last element)\n",
    "print(string[-3::2])  # from -3 to end with step 2"
   ]
  },
  {
   "cell_type": "code",
   "execution_count": null,
   "metadata": {
    "slideshow": {
     "slide_type": "slide"
    }
   },
   "outputs": [],
   "source": [
    "string = \"ABCD\"\n",
    "# Think of slicing as vector where direction is: left2right for positive step, right2left for negative step\n",
    "# -----step:1------>\n",
    "#    0   1   2   3  \n",
    "#  | A | B | C | D |\n",
    "#   -4  -3  -2  -1  \n",
    "# <----step:-2------\n",
    "print(\"step 1/-1\")\n",
    "print(string[::-1])        # reversed, last to first, right2left\n",
    "print(string[-2:-4:-1])    # -2 to -4 (without element indexed -4), right2left\n",
    "print(string[-4:-2:1])     # -4 to -2, left2right\n",
    "print(string[2:0:-1])      # 2 to 0 (without element indexed 0), right2left\n",
    "print(string[0:2:1])       # 0 to 2, left2right\n",
    "print(\"step 2/-2\")\n",
    "print(string[0:3:2])\n",
    "print(string[-4:-1:2])\n",
    "print(string[3:0:-2])\n",
    "print(string[-1:-4:-2])"
   ]
  },
  {
   "cell_type": "code",
   "execution_count": null,
   "metadata": {
    "slideshow": {
     "slide_type": "slide"
    }
   },
   "outputs": [],
   "source": [
    "string = \"ABCD\"\n",
    "# Incorrect\n",
    "# -----step:1------>\n",
    "#    0   1   2   3  \n",
    "#  | A | B | C | D |\n",
    "#   -4  -3  -2  -1  \n",
    "# <----step:-2------\n",
    "\n",
    "print(string[-4:-2:-1])    # -4 to -2 (no such vector in this direction), right2left - output will be empty\n",
    "print(string[-2:-4:1])     # -2 to -4 (no such vector in this direction), left2right - output will be empty\n",
    "print(string[0:2:-1])      # same issue\n",
    "print(string[2:0:1])       # same issue\n"
   ]
  },
  {
   "cell_type": "markdown",
   "metadata": {
    "slideshow": {
     "slide_type": "slide"
    }
   },
   "source": [
    "#### Splitting"
   ]
  },
  {
   "cell_type": "code",
   "execution_count": null,
   "metadata": {
    "slideshow": {
     "slide_type": "fragment"
    }
   },
   "outputs": [],
   "source": [
    "test_string = \"I'm a test string\"\n",
    "print(test_string)\n",
    "print(\"Log1;Log2;Log3;\".split(\";\"))\n",
    "print(\"\"\"   I have    whitespaces \n",
    "    and enters\"\"\".split())\n",
    "print('to \\t test\\ttabulator'.split())"
   ]
  },
  {
   "cell_type": "markdown",
   "metadata": {
    "slideshow": {
     "slide_type": "slide"
    }
   },
   "source": [
    "#### Replacing"
   ]
  },
  {
   "cell_type": "code",
   "execution_count": null,
   "metadata": {
    "slideshow": {
     "slide_type": "fragment"
    }
   },
   "outputs": [],
   "source": [
    "print(test_string.replace('a', 'the'))"
   ]
  },
  {
   "cell_type": "markdown",
   "metadata": {
    "slideshow": {
     "slide_type": "slide"
    }
   },
   "source": [
    "#### Stripping"
   ]
  },
  {
   "cell_type": "code",
   "execution_count": null,
   "metadata": {
    "slideshow": {
     "slide_type": "fragment"
    }
   },
   "outputs": [],
   "source": [
    "print(\"   I have whitespaces at the beginning and at the end of me     \")\n",
    "print(\"   I have whitespaces at the beginning and at the end of me\".strip('me'))"
   ]
  },
  {
   "cell_type": "markdown",
   "metadata": {
    "slideshow": {
     "slide_type": "slide"
    }
   },
   "source": [
    "### None"
   ]
  },
  {
   "cell_type": "markdown",
   "metadata": {
    "slideshow": {
     "slide_type": "fragment"
    }
   },
   "source": [
    "`None` is equivalent of NULL in C."
   ]
  },
  {
   "cell_type": "code",
   "execution_count": null,
   "metadata": {
    "slideshow": {
     "slide_type": "fragment"
    }
   },
   "outputs": [],
   "source": [
    "a = None\n",
    "print(id(None))\n",
    "print(id(None))\n",
    "print(id(a))"
   ]
  },
  {
   "cell_type": "markdown",
   "metadata": {
    "slideshow": {
     "slide_type": "fragment"
    }
   },
   "source": [
    "When a function (or method) does not return anything explictly it returns `None` silently."
   ]
  },
  {
   "cell_type": "markdown",
   "metadata": {
    "slideshow": {
     "slide_type": "slide"
    }
   },
   "source": [
    "### Boolean"
   ]
  },
  {
   "cell_type": "code",
   "execution_count": null,
   "metadata": {
    "slideshow": {
     "slide_type": "fragment"
    }
   },
   "outputs": [],
   "source": [
    "print(\"Empty string: \", bool(\"\"))\n",
    "print(\"Integer 1: \", bool(1))\n",
    "print(\"Integer 0: \", bool(0))\n",
    "print(\"Empty container: \", bool([]))\n",
    "print(\"Full container: \", bool((1,2)))\n",
    "print(\"None: \", bool(None))"
   ]
  },
  {
   "cell_type": "markdown",
   "metadata": {
    "slideshow": {
     "slide_type": "slide"
    }
   },
   "source": [
    "Only the following values are considered false:\n",
    "* `False`\n",
    "* `None`\n",
    "* Empty container or string\n",
    "* Numeric `0`"
   ]
  },
  {
   "cell_type": "markdown",
   "metadata": {
    "slideshow": {
     "slide_type": "slide"
    }
   },
   "source": [
    "#### Operations"
   ]
  },
  {
   "cell_type": "markdown",
   "metadata": {
    "slideshow": {
     "slide_type": "fragment"
    }
   },
   "source": [
    "`and`, `or` and `not` are valid operations for `bool` type. Also condition evaluation is short-circuited - as soon as condition is fulfilled evaluation is stopped:"
   ]
  },
  {
   "cell_type": "code",
   "execution_count": null,
   "metadata": {
    "slideshow": {
     "slide_type": "fragment"
    }
   },
   "outputs": [],
   "source": [
    "a = 1\n",
    "b = 'Two'\n",
    "if a and b or this_var_does_not_exist:\n",
    "    print('Short circuted')"
   ]
  },
  {
   "cell_type": "markdown",
   "metadata": {
    "slideshow": {
     "slide_type": "fragment"
    }
   },
   "source": [
    "Evaluation of `this_var_does_not_exist` should raise `NameError` but it is stopped before that happens."
   ]
  }
 ],
 "metadata": {
  "hide_input": false,
  "kernelspec": {
   "display_name": "Python 3",
   "language": "python",
   "name": "python3"
  },
  "language_info": {
   "codemirror_mode": {
    "name": "ipython",
    "version": 3
   },
   "file_extension": ".py",
   "mimetype": "text/x-python",
   "name": "python",
   "nbconvert_exporter": "python",
   "pygments_lexer": "ipython3",
   "version": "3.6.7"
  },
  "toc": {
   "base_numbering": 1,
   "nav_menu": {},
   "number_sections": true,
   "sideBar": true,
   "skip_h1_title": false,
   "title_cell": "Table of Contents",
   "title_sidebar": "Contents",
   "toc_cell": false,
   "toc_position": {},
   "toc_section_display": true,
   "toc_window_display": true
  }
 },
 "nbformat": 4,
 "nbformat_minor": 2
}
