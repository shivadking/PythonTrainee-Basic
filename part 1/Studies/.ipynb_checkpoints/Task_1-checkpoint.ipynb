{
 "cells": [
  {
   "cell_type": "markdown",
   "metadata": {},
   "source": [
    "# Introduction to Python:"
   ]
  },
  {
   "cell_type": "markdown",
   "metadata": {},
   "source": [
    "Python is a widely used general-purpose, high level programming language. It was initially\n",
    "designed by Guido van Rossum in 1991 and developed by Python Software Foundation. It\n",
    "was mainly developed for emphasis on code readability, and its syntax allows programmers\n",
    "to express concepts in fewer lines of code.\n",
    "\n",
    "Python is a programming language that lets you work quickly and integrate systems more\n",
    "efficiently\n",
    "\n",
    "There are two major Python versions- Python 2 and Python 3.\n",
    "\n",
    "    • On 16 October 2000, Python 2.0 was released with many new features.\n",
    "    • On 3rd December 2008, Python 3.0 was released with more testing and includes new features."
   ]
  },
  {
   "cell_type": "markdown",
   "metadata": {},
   "source": [
    "## 1. Variables, Operators, and Expressions "
   ]
  },
  {
   "cell_type": "markdown",
   "metadata": {},
   "source": [
    "Tips/Notes:\n",
    "    \n",
    "    1. Variables are typed (this is a string, that's an integer, etc.) type(x) is a function that returns the type of its parameter.\n",
    "    \n",
    "    2. You can convert information from one type to another using the built-in conversion functions: int(x), str(x), float(x), bool(x). These tend to fail for conversions that don't make sense, e.g. int(\"hello\") crashes.\n",
    "    \n",
    "    3. Every variable you create should have a meaning. Give your variables names that match their meaning: don't just name all your variables a, b, c (exception: if you're writing a quiz to test your students, only use names like a, b, c)"
   ]
  },
  {
   "cell_type": "markdown",
   "metadata": {},
   "source": [
    "### What is the output of the following code? \n",
    " "
   ]
  },
  {
   "cell_type": "code",
   "execution_count": 4,
   "metadata": {},
   "outputs": [
    {
     "name": "stdout",
     "output_type": "stream",
     "text": [
      "12\n"
     ]
    }
   ],
   "source": [
    "a = 5\n",
    "b = a + 7\n",
    "a = 10\n",
    "print(b)"
   ]
  },
  {
   "cell_type": "markdown",
   "metadata": {},
   "source": [
    "### What is the type of each of the following expressions (within the type function)?"
   ]
  },
  {
   "cell_type": "code",
   "execution_count": 6,
   "metadata": {},
   "outputs": [
    {
     "name": "stdout",
     "output_type": "stream",
     "text": [
      "<class 'int'>\n",
      "<class 'str'>\n",
      "<class 'bool'>\n",
      "<class 'float'>\n",
      "<class 'float'>\n",
      "<class 'float'>\n",
      "<class 'bool'>\n"
     ]
    }
   ],
   "source": [
    "print(type(5))\n",
    "print(type(\"abc\"))\n",
    "print(type(True))\n",
    "print(type(5.5))\n",
    "print(type(12/27))\n",
    "print(type(2.0/1))\n",
    "print(type(5 == \"5\"))"
   ]
  },
  {
   "cell_type": "markdown",
   "metadata": {},
   "source": [
    "### What is the output of the following code?"
   ]
  },
  {
   "cell_type": "code",
   "execution_count": 22,
   "metadata": {},
   "outputs": [
    {
     "name": "stdout",
     "output_type": "stream",
     "text": [
      "True\n",
      "False\n",
      "True\n",
      "False\n",
      "53True\n"
     ]
    }
   ],
   "source": [
    "print(5 == 5.0)\n",
    "print(5 == \"5\")\n",
    "print(\"sdf\" == \"sdf\")\n",
    "print(True and (False or not True))\n",
    "print(str(53) + str(True))"
   ]
  },
  {
   "cell_type": "markdown",
   "metadata": {},
   "source": [
    "### 2. Conditionals "
   ]
  },
  {
   "cell_type": "markdown",
   "metadata": {},
   "source": [
    "Tips/Notes:\n",
    "    \n",
    "    1. The if statement executes a sequence of statements only if some condition is true. This condition can be anything. \n",
    "\n",
    "    2. elif / else is optional. Remember that at most one block of statements is executed. else occurs if none of the above conditions are satisfied."
   ]
  },
  {
   "cell_type": "markdown",
   "metadata": {},
   "source": [
    "### Consider the following code "
   ]
  },
  {
   "cell_type": "code",
   "execution_count": 37,
   "metadata": {},
   "outputs": [
    {
     "name": "stdout",
     "output_type": "stream",
     "text": [
      "a\n"
     ]
    }
   ],
   "source": [
    "#a = ?\n",
    "a = 5\n",
    "#a = 15\n",
    "#a = 25\n",
    "if a < 10:\n",
    "    print(\"a\")\n",
    "elif a > 10 and a < 20:\n",
    "    print(\"b\")\n",
    "else:\n",
    "    print(\"c\")"
   ]
  },
  {
   "cell_type": "code",
   "execution_count": null,
   "metadata": {},
   "outputs": [],
   "source": []
  }
 ],
 "metadata": {
  "kernelspec": {
   "display_name": "Python 3",
   "language": "python",
   "name": "python3"
  },
  "language_info": {
   "codemirror_mode": {
    "name": "ipython",
    "version": 3
   },
   "file_extension": ".py",
   "mimetype": "text/x-python",
   "name": "python",
   "nbconvert_exporter": "python",
   "pygments_lexer": "ipython3",
   "version": "3.6.7"
  }
 },
 "nbformat": 4,
 "nbformat_minor": 2
}
