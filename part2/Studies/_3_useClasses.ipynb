{
 "cells": [
  {
   "cell_type": "markdown",
   "metadata": {
    "hideCode": false,
    "hidePrompt": false,
    "slideshow": {
     "slide_type": "slide"
    }
   },
   "source": [
    "### Classes"
   ]
  },
  {
   "cell_type": "markdown",
   "metadata": {
    "hideCode": false,
    "hidePrompt": false,
    "slideshow": {
     "slide_type": "fragment"
    }
   },
   "source": [
    "Simplest class definition:\n",
    "```python\n",
    "class ClassName:\n",
    "    <statement-1>\n",
    "    .\n",
    "    <statement-N>\n",
    "```\n",
    "\n",
    "Class has its own namespace. Statements are usualy methods but other things are possible (i.e. docstring, variables...). "
   ]
  },
  {
   "cell_type": "markdown",
   "metadata": {
    "hideCode": false,
    "hidePrompt": false,
    "slideshow": {
     "slide_type": "fragment"
    }
   },
   "source": [
    "When class is defined, it supports two kinds of operations: 'attribute reference' and 'instantiation':"
   ]
  },
  {
   "cell_type": "code",
   "execution_count": null,
   "metadata": {
    "hideCode": false,
    "hidePrompt": false,
    "slideshow": {
     "slide_type": "slide"
    }
   },
   "outputs": [],
   "source": [
    "class SimpleClass:\n",
    "    '''doc for class SimpleClass'''\n",
    "    \n",
    "    i = 123\n",
    "    \n",
    "    def f(self):\n",
    "        '''doc for method f'''\n",
    "        return 'I am simple class method'"
   ]
  },
  {
   "cell_type": "code",
   "execution_count": null,
   "metadata": {
    "hideCode": false,
    "hidePrompt": false,
    "slideshow": {
     "slide_type": "fragment"
    }
   },
   "outputs": [],
   "source": [
    "print(SimpleClass.i)        # attribute reference\n",
    "print(SimpleClass.f)        # attribute reference\n",
    "print(SimpleClass.__doc__)  # attribute reference\n",
    "\n",
    "obj = SimpleClass()          # instantiation\n",
    "\n",
    "print(obj.f())"
   ]
  },
  {
   "cell_type": "markdown",
   "metadata": {
    "slideshow": {
     "slide_type": "fragment"
    }
   },
   "source": [
    "You can call help method on class which will show you informations about methods and attributes in class with docstrings"
   ]
  },
  {
   "cell_type": "code",
   "execution_count": null,
   "metadata": {
    "slideshow": {
     "slide_type": "slide"
    }
   },
   "outputs": [],
   "source": [
    "help(SimpleClass)"
   ]
  },
  {
   "cell_type": "markdown",
   "metadata": {
    "hideCode": false,
    "hidePrompt": false,
    "slideshow": {
     "slide_type": "fragment"
    }
   },
   "source": [
    "The class instantiation above creates an empty object (without initial state). To give this object (class instance) a state - special method named `__init__()` is used, the constructor:"
   ]
  },
  {
   "cell_type": "code",
   "execution_count": null,
   "metadata": {
    "hideCode": false,
    "hidePrompt": false,
    "slideshow": {
     "slide_type": "slide"
    }
   },
   "outputs": [],
   "source": [
    "class SimpleClass2:\n",
    "    def __init__(self, x, y=1):\n",
    "        self.xx = x\n",
    "        self.yy = y\n",
    "        \n",
    "    def first_method(self):\n",
    "        return self.xx + ' first method'"
   ]
  },
  {
   "cell_type": "code",
   "execution_count": null,
   "metadata": {
    "hideCode": false,
    "hidePrompt": false,
    "slideshow": {
     "slide_type": "fragment"
    }
   },
   "outputs": [],
   "source": [
    "# what will be the output for every print statement here?\n",
    "obj = SimpleClass2('hi')\n",
    "print(obj.xx) # \n",
    "print(obj.yy) # \n",
    "print(obj.first_method()) # "
   ]
  },
  {
   "cell_type": "markdown",
   "metadata": {
    "slideshow": {
     "slide_type": "slide"
    }
   },
   "source": [
    "#### Method objects"
   ]
  },
  {
   "cell_type": "markdown",
   "metadata": {
    "hideCode": false,
    "hidePrompt": false,
    "slideshow": {
     "slide_type": "fragment"
    }
   },
   "source": [
    "\n",
    "\n",
    "You may have noticed that `obj.first_method()` was called without an argument above, even though the function definition for `first_method()` specified an argument (`self`). The special thing about methods in classes is that the class instance (object) is passed as the first argument of the function implicitly. In our example, the call `obj.first_method()` is exactly equivalent to `SimpleClass2.first_method(obj)`."
   ]
  },
  {
   "cell_type": "code",
   "execution_count": null,
   "metadata": {
    "hideCode": false,
    "hidePrompt": false,
    "slideshow": {
     "slide_type": "slide"
    }
   },
   "outputs": [],
   "source": [
    "obj = SimpleClass2('hi')\n",
    "print(SimpleClass2.first_method(obj))"
   ]
  },
  {
   "cell_type": "code",
   "execution_count": null,
   "metadata": {
    "hideCode": false,
    "hidePrompt": false,
    "slideshow": {
     "slide_type": "fragment"
    }
   },
   "outputs": [],
   "source": [
    "obj_method = obj.first_method      #like any other thing in python object method can be assigned to variable\n",
    "print(obj_method())"
   ]
  },
  {
   "cell_type": "markdown",
   "metadata": {
    "slideshow": {
     "slide_type": "slide"
    }
   },
   "source": [
    "#### Class and instance variables"
   ]
  },
  {
   "cell_type": "code",
   "execution_count": null,
   "metadata": {
    "slideshow": {
     "slide_type": "fragment"
    }
   },
   "outputs": [],
   "source": [
    "class C:\n",
    "    class_var = 'I am class variable, shared among all instances'   # class variable shared by all instances\n",
    "    \n",
    "    def __init__(self, name):\n",
    "        self.instance_var = name "
   ]
  },
  {
   "cell_type": "code",
   "execution_count": null,
   "metadata": {
    "slideshow": {
     "slide_type": "fragment"
    }
   },
   "outputs": [],
   "source": [
    "# what will be the output of every print statement here?\n",
    "c1 = C('first')\n",
    "c2 = C('second')\n",
    "print('c1.instance_var:', c1.instance_var) # \n",
    "print('c2.instance_var:', c2.instance_var) # \n",
    "print('c1.class_var:', c1.class_var) # \n",
    "print('c2.class_var:', c2.class_var) # \n",
    "C.class_var = 'Oo changed...'\n",
    "print('c1.class_var:', c1.class_var) # \n",
    "print('c2.class_var:', c2.class_var) # "
   ]
  },
  {
   "cell_type": "markdown",
   "metadata": {
    "slideshow": {
     "slide_type": "slide"
    }
   },
   "source": [
    "#### self"
   ]
  },
  {
   "cell_type": "markdown",
   "metadata": {
    "slideshow": {
     "slide_type": "fragment"
    }
   },
   "source": [
    "Often, the first argument of a method is called `self`. This is nothing more than a convention: the name self has absolutely no special meaning to Python. Note, however, that by not following the convention your code may be less readable to other Python programmers."
   ]
  },
  {
   "cell_type": "markdown",
   "metadata": {
    "slideshow": {
     "slide_type": "slide"
    }
   },
   "source": [
    "#### Better printout of class"
   ]
  },
  {
   "cell_type": "code",
   "execution_count": null,
   "metadata": {
    "slideshow": {
     "slide_type": "fragment"
    }
   },
   "outputs": [],
   "source": [
    "class SimpleClass:\n",
    "    def __init__(self, some_text):\n",
    "        self.t = some_text\n",
    "        \n",
    "s = SimpleClass(\"Some text to be displayed\")     \n",
    "print(s)"
   ]
  },
  {
   "cell_type": "markdown",
   "metadata": {
    "slideshow": {
     "slide_type": "slide"
    }
   },
   "source": [
    "As we can see the output of the example above shows only information about the object itself, not the text we would like to see. In order to do so, we need to change the default behaviour - the `__str__` method needs to be implemented."
   ]
  },
  {
   "cell_type": "code",
   "execution_count": null,
   "metadata": {
    "slideshow": {
     "slide_type": "fragment"
    }
   },
   "outputs": [],
   "source": [
    "class SimpleClass:\n",
    "    def __init__(self, some_text):\n",
    "        self.t = some_text\n",
    "    \n",
    "    def __str__(self):\n",
    "        return \"Here is the text you provided: \" + self.t\n",
    "        \n",
    "s = SimpleClass(\"Some text to be displayed\")     \n",
    "print(s)"
   ]
  },
  {
   "cell_type": "markdown",
   "metadata": {
    "slideshow": {
     "slide_type": "slide"
    }
   },
   "source": [
    "#### Inheritance"
   ]
  },
  {
   "cell_type": "code",
   "execution_count": null,
   "metadata": {
    "slideshow": {
     "slide_type": "fragment"
    }
   },
   "outputs": [],
   "source": [
    "class BaseClass: # or class BaseClass(object):  # Python2\n",
    "    def __init__(self, name):\n",
    "        self.name = name\n",
    "\n",
    "    def method(self):\n",
    "        print(\"I'm a base class method\")"
   ]
  },
  {
   "cell_type": "code",
   "execution_count": null,
   "metadata": {
    "slideshow": {
     "slide_type": "fragment"
    }
   },
   "outputs": [],
   "source": [
    "class ChildClass(BaseClass):\n",
    "    def method(self):\n",
    "        print('I have overridden my base class method')\n",
    "        print(\"and now I'm calling it:\")\n",
    "        super().method()"
   ]
  },
  {
   "cell_type": "code",
   "execution_count": null,
   "metadata": {
    "slideshow": {
     "slide_type": "slide"
    }
   },
   "outputs": [],
   "source": [
    "c = ChildClass()   # Nope... BaseClass __init__ takes an argument"
   ]
  },
  {
   "cell_type": "code",
   "execution_count": null,
   "metadata": {
    "slideshow": {
     "slide_type": "fragment"
    }
   },
   "outputs": [],
   "source": [
    "c = ChildClass('Deadpool')"
   ]
  },
  {
   "cell_type": "code",
   "execution_count": null,
   "metadata": {
    "slideshow": {
     "slide_type": "fragment"
    }
   },
   "outputs": [],
   "source": [
    "# print(\"My name is \" + c.name)\n",
    "c.method()"
   ]
  },
  {
   "cell_type": "markdown",
   "metadata": {
    "slideshow": {
     "slide_type": "slide"
    }
   },
   "source": [
    "If a requested attribute is not found in the class, the search proceeds to look in the base class. This rule is applied recursively if the base class itself is derived from some other class."
   ]
  },
  {
   "cell_type": "markdown",
   "metadata": {
    "slideshow": {
     "slide_type": "fragment"
    }
   },
   "source": [
    "Search order for attribute names:\n",
    "1. instance attributes\n",
    "1. class attributes\n",
    "1. class attributes of base classes"
   ]
  },
  {
   "cell_type": "code",
   "execution_count": null,
   "metadata": {
    "slideshow": {
     "slide_type": "slide"
    }
   },
   "outputs": [],
   "source": [
    "print(isinstance(c, ChildClass))   # is c an instance of ChildClass or derived class\n",
    "print(isinstance(c, BaseClass))\n",
    "print(issubclass(ChildClass, BaseClass))"
   ]
  },
  {
   "cell_type": "markdown",
   "metadata": {
    "slideshow": {
     "slide_type": "slide"
    }
   },
   "source": [
    "#### New-style vs old-style classes"
   ]
  },
  {
   "cell_type": "markdown",
   "metadata": {
    "slideshow": {
     "slide_type": "fragment"
    }
   },
   "source": [
    "After class name, baseclass name and brackets can be omitted:"
   ]
  },
  {
   "cell_type": "code",
   "execution_count": null,
   "metadata": {
    "slideshow": {
     "slide_type": "fragment"
    }
   },
   "outputs": [],
   "source": [
    "class BaseOmitted:\n",
    "    pass"
   ]
  },
  {
   "cell_type": "markdown",
   "metadata": {
    "slideshow": {
     "slide_type": "slide"
    }
   },
   "source": [
    "In Python2.x class defined in above way is called `old-style class` in contrast with `new-style class` where baseclass was specified (even if it was `object` only). This has a major consequences:\n",
    "* `super()` does not work with `old-style classes`\n",
    "* in case of multiple inheritance the order in which classes are initialized and looked-up may vary\n",
    "* `Old-style classes` don't actually have a `__new__()` method because for them `__init__()` is the constructor!\n",
    "\n",
    "There are some more differences but i will omit them."
   ]
  },
  {
   "cell_type": "markdown",
   "metadata": {
    "slideshow": {
     "slide_type": "slide"
    }
   },
   "source": [
    "For more information about this look here:\n",
    "* https://docs.python.org/2/reference/datamodel.html#newstyle\n",
    "* https://rhettinger.wordpress.com/2011/05/26/super-considered-super/\n",
    "\n",
    "In Python3 all classes - no matter how they are defined - are `new-style classes`."
   ]
  },
  {
   "cell_type": "markdown",
   "metadata": {
    "slideshow": {
     "slide_type": "slide"
    }
   },
   "source": [
    "Also the one thing to mention about the differences between python2 and python3 is the usage of super method. Take a look at the example below:"
   ]
  },
  {
   "cell_type": "code",
   "execution_count": null,
   "metadata": {
    "slideshow": {
     "slide_type": "fragment"
    }
   },
   "outputs": [],
   "source": [
    "class B:\n",
    "    def __init__(self):  \n",
    "        print('Here in B')\n",
    "\n",
    "class C(B):\n",
    "    def __init__(self):\n",
    "        print('Here in C')\n",
    "        super().__init__()\n",
    "        # in python2 ugly:\n",
    "        # super(self, B).__init__()\n",
    "        \n",
    "c = C()\n"
   ]
  },
  {
   "cell_type": "markdown",
   "metadata": {
    "slideshow": {
     "slide_type": "slide"
    }
   },
   "source": [
    "#### Public and private variables"
   ]
  },
  {
   "cell_type": "markdown",
   "metadata": {
    "slideshow": {
     "slide_type": "fragment"
    }
   },
   "source": [
    "'Private' instance variables that cannot be accessed except from inside an object don’t exist in Python. However, there is a convention that is followed by most Python code: a name prefixed with an underscore (e.g. `_spam`) should be treated as a non-public part of the API (whether it is a function, a method or a data member). It should be considered an implementation detail and subject to change without notice."
   ]
  },
  {
   "cell_type": "code",
   "execution_count": null,
   "metadata": {
    "slideshow": {
     "slide_type": "slide"
    }
   },
   "outputs": [],
   "source": [
    "class C:\n",
    "    def __init__(self):\n",
    "        self.public = 'i am public'\n",
    "        self._private = 'private, do no change!'"
   ]
  },
  {
   "cell_type": "code",
   "execution_count": null,
   "metadata": {
    "slideshow": {
     "slide_type": "fragment"
    }
   },
   "outputs": [],
   "source": [
    "c = C()\n",
    "print(c.public)\n",
    "print(c._private)"
   ]
  },
  {
   "cell_type": "markdown",
   "metadata": {
    "slideshow": {
     "slide_type": "slide"
    }
   },
   "source": [
    "One more way exists in Python: Any identifier of the form `__spam` (at least two leading underscores, at most one trailing underscore) is textually replaced with `_classname__spam`, where classname is the current class name with leading underscore(s) stripped."
   ]
  },
  {
   "cell_type": "code",
   "execution_count": null,
   "metadata": {
    "slideshow": {
     "slide_type": "slide"
    }
   },
   "outputs": [],
   "source": [
    "class DoubleUClass(object):\n",
    "    def __init__(self):\n",
    "        self.__foo = 'double underscore'"
   ]
  },
  {
   "cell_type": "code",
   "execution_count": null,
   "metadata": {
    "slideshow": {
     "slide_type": "fragment"
    }
   },
   "outputs": [],
   "source": [
    "c = DoubleUClass()\n",
    "print(c.__foo)"
   ]
  },
  {
   "cell_type": "code",
   "execution_count": null,
   "metadata": {
    "slideshow": {
     "slide_type": "fragment"
    }
   },
   "outputs": [],
   "source": [
    "print(c._DoubleUClass__foo)"
   ]
  }
 ],
 "metadata": {
  "hide_code_all_hidden": false,
  "hide_input": false,
  "kernelspec": {
   "display_name": "Python 3",
   "language": "python",
   "name": "python3"
  },
  "language_info": {
   "codemirror_mode": {
    "name": "ipython",
    "version": 3
   },
   "file_extension": ".py",
   "mimetype": "text/x-python",
   "name": "python",
   "nbconvert_exporter": "python",
   "pygments_lexer": "ipython3",
   "version": "3.6.7"
  },
  "toc": {
   "base_numbering": 1,
   "nav_menu": {},
   "number_sections": true,
   "sideBar": true,
   "skip_h1_title": false,
   "title_cell": "Table of Contents",
   "title_sidebar": "Contents",
   "toc_cell": false,
   "toc_position": {},
   "toc_section_display": true,
   "toc_window_display": false
  }
 },
 "nbformat": 4,
 "nbformat_minor": 2
}
