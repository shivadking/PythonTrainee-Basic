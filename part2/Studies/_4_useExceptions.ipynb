{
 "cells": [
  {
   "cell_type": "markdown",
   "metadata": {
    "slideshow": {
     "slide_type": "slide"
    }
   },
   "source": [
    "## Exceptions"
   ]
  },
  {
   "cell_type": "markdown",
   "metadata": {
    "slideshow": {
     "slide_type": "fragment"
    }
   },
   "source": [
    "https://docs.python.org/3/library/exceptions.html"
   ]
  },
  {
   "cell_type": "markdown",
   "metadata": {
    "slideshow": {
     "slide_type": "fragment"
    }
   },
   "source": [
    "Exceptions are Python way to say 'Hey! Look, an error happened!'. By default, when exception is raised, it propagates up the call stack. When at the top, Python prints its name, along with call stack (traceback) and exits the program."
   ]
  },
  {
   "cell_type": "code",
   "execution_count": null,
   "metadata": {
    "slideshow": {
     "slide_type": "slide"
    }
   },
   "outputs": [],
   "source": [
    "def f1():\n",
    "    def f2():\n",
    "        def f3():\n",
    "            def f4():\n",
    "                print(\"before error\")\n",
    "                1/0\n",
    "                print(\"after error\")\n",
    "            f4()\n",
    "        f3()\n",
    "        print(\"after error, outside function with error\")\n",
    "    f2()\n",
    "f1()\n",
    "print('AFTER Exception')   # This will NOT be printed"
   ]
  },
  {
   "cell_type": "markdown",
   "metadata": {
    "slideshow": {
     "slide_type": "slide"
    }
   },
   "source": [
    "### Handling exceptions"
   ]
  },
  {
   "cell_type": "markdown",
   "metadata": {
    "slideshow": {
     "slide_type": "fragment"
    }
   },
   "source": [
    "Exceptions are objects too! And they can be intercepted and handled before program stops working:"
   ]
  },
  {
   "cell_type": "code",
   "execution_count": null,
   "metadata": {
    "slideshow": {
     "slide_type": "slide"
    }
   },
   "outputs": [],
   "source": [
    "try:\n",
    "    f1()\n",
    "    print('This will not be printed if above line raises exception')\n",
    "\n",
    "except (ZeroDivisionError, NameError) as e:\n",
    "    print('but this will... (if raised exception is ZeroDivisionError or NameError!)')\n",
    "    print(10 * '-')\n",
    "    print(repr(e))\n",
    "    print(10 * '-')\n",
    "    print('Exception arguments:', e.args)\n",
    "except TypeError as e:\n",
    "    pass\n",
    "\n",
    "else:\n",
    "    print('This will be printed if no exception is caught')\n",
    "finally:\n",
    "    print('THIS WILL ALWAYS BE PRINTED')"
   ]
  },
  {
   "cell_type": "markdown",
   "metadata": {
    "collapsed": true,
    "slideshow": {
     "slide_type": "slide"
    }
   },
   "source": [
    "### exceptions for better code readability"
   ]
  },
  {
   "cell_type": "markdown",
   "metadata": {},
   "source": [
    "Besides signaling error, exceptions handling may be used for improving code maintanability:"
   ]
  },
  {
   "cell_type": "code",
   "execution_count": null,
   "metadata": {},
   "outputs": [],
   "source": [
    "# code mixing main-logic with error-handling (difficult to read)\n",
    "\n",
    "import os\n",
    "if os.path.isfile(\"my.log\") and os.access(\"my.log\", os.R_OK):\n",
    "    source = open(\"my.log\", 'r') \n",
    "    data = source.read()\n",
    "    source.close()\n",
    "    if os.path.isfile(\"all.log\") and os.access(\"all.log\", os.W_OK):\n",
    "        target = open(\"all.log\", 'a') \n",
    "        target.write(data)\n",
    "        target.close()\n",
    "    else:\n",
    "        print(\"can't open 'all.log' to write\")\n",
    "else:\n",
    "    print(\"can't open 'my.log' to read\")"
   ]
  },
  {
   "cell_type": "code",
   "execution_count": null,
   "metadata": {},
   "outputs": [],
   "source": [
    "# exceptions handling - clear separation of main-logic and error-hanling --> Pythonic code\n",
    "\n",
    "try:\n",
    "    source = open(\"my.log\", 'r') \n",
    "    data = source.read()\n",
    "    source.close()\n",
    "    target = open(\"all.log\", 'a') \n",
    "    target.write(data)\n",
    "    target.close()\n",
    "except IOError as e:\n",
    "    print(e)"
   ]
  },
  {
   "cell_type": "markdown",
   "metadata": {
    "collapsed": true,
    "slideshow": {
     "slide_type": "slide"
    }
   },
   "source": [
    "### Raising exceptions"
   ]
  },
  {
   "cell_type": "markdown",
   "metadata": {
    "slideshow": {
     "slide_type": "fragment"
    }
   },
   "source": [
    "You can raise (throw) exceptions. `raise` keyword is for that purpose:"
   ]
  },
  {
   "cell_type": "code",
   "execution_count": null,
   "metadata": {
    "slideshow": {
     "slide_type": "fragment"
    }
   },
   "outputs": [],
   "source": [
    "def raising_function():\n",
    "    print('Now i will raise an exception:')\n",
    "    raise TypeError()"
   ]
  },
  {
   "cell_type": "code",
   "execution_count": null,
   "metadata": {
    "slideshow": {
     "slide_type": "fragment"
    }
   },
   "outputs": [],
   "source": [
    "raising_function()"
   ]
  },
  {
   "cell_type": "markdown",
   "metadata": {
    "slideshow": {
     "slide_type": "slide"
    }
   },
   "source": [
    "Exception may be raised deep in call stack"
   ]
  },
  {
   "cell_type": "code",
   "execution_count": null,
   "metadata": {
    "slideshow": {
     "slide_type": "fragment"
    }
   },
   "outputs": [],
   "source": [
    "def fun_3():\n",
    "    test = True # change to False\n",
    "    if test:\n",
    "        raise ValueError('value error')\n",
    "    #pass\n",
    "        \n",
    "def fun_1():\n",
    "    fun_3()\n",
    "    \n",
    "def fun_2():\n",
    "    my_list = [1,2]\n",
    "    print(my_list[2])\n",
    "    \n",
    "try:\n",
    "    fun_1()\n",
    "    fun_2()\n",
    "except ValueError as msg:\n",
    "    print(\"Failed: %s\" % msg)"
   ]
  },
  {
   "cell_type": "markdown",
   "metadata": {
    "slideshow": {
     "slide_type": "slide"
    }
   },
   "source": [
    "#### Re-raising Exceptions\n",
    "\n",
    "In case we don't catch our exception, we can inform about it/log it and then raise it again in order to let the rest of the code handle it.\n"
   ]
  },
  {
   "cell_type": "code",
   "execution_count": null,
   "metadata": {
    "slideshow": {
     "slide_type": "fragment"
    }
   },
   "outputs": [],
   "source": [
    "class MyErr(Exception):\n",
    "    pass\n",
    "\n",
    "try:\n",
    "    raise MyErr(\"my exception\") # comment to see what happens\n",
    "    raise Exception('some exception')\n",
    "except MyErr as err:\n",
    "    print('Failed: %s' % err)\n",
    "except:\n",
    "    print('not my error')\n",
    "    # reraise last exception\n",
    "    raise"
   ]
  },
  {
   "cell_type": "markdown",
   "metadata": {
    "slideshow": {
     "slide_type": "slide"
    }
   },
   "source": [
    "### User-defined exceptions"
   ]
  },
  {
   "cell_type": "code",
   "execution_count": null,
   "metadata": {
    "slideshow": {
     "slide_type": "fragment"
    }
   },
   "outputs": [],
   "source": [
    "class UserException(Exception):\n",
    "    def __init__(self, value, raw, col):\n",
    "        self.value = value\n",
    "        self.raw = raw\n",
    "        self.col = col\n",
    "    def __str__(self):\n",
    "        return 'User defined exception called with value: \"{}\" at raw:{}, col:{}'.format(self.value, self.raw, self.col)"
   ]
  },
  {
   "cell_type": "code",
   "execution_count": null,
   "metadata": {
    "slideshow": {
     "slide_type": "fragment"
    }
   },
   "outputs": [],
   "source": [
    "try:\n",
    "    raise UserException(\"C\", raw=5, col=47)\n",
    "except UserException as e:\n",
    "    print(e)\n",
    "    print(e.value)"
   ]
  }
 ],
 "metadata": {
  "hide_input": false,
  "kernelspec": {
   "display_name": "Python 3",
   "language": "python",
   "name": "python3"
  },
  "language_info": {
   "codemirror_mode": {
    "name": "ipython",
    "version": 3
   },
   "file_extension": ".py",
   "mimetype": "text/x-python",
   "name": "python",
   "nbconvert_exporter": "python",
   "pygments_lexer": "ipython3",
   "version": "3.6.7"
  },
  "toc": {
   "base_numbering": 1,
   "nav_menu": {},
   "number_sections": true,
   "sideBar": true,
   "skip_h1_title": false,
   "title_cell": "Table of Contents",
   "title_sidebar": "Contents",
   "toc_cell": false,
   "toc_position": {},
   "toc_section_display": true,
   "toc_window_display": false
  }
 },
 "nbformat": 4,
 "nbformat_minor": 2
}
