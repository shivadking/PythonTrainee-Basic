{
 "cells": [
  {
   "cell_type": "markdown",
   "metadata": {},
   "source": [
    "### Handling multiple exceptions"
   ]
  },
  {
   "cell_type": "markdown",
   "metadata": {},
   "source": [
    "Format depends if you want exception data or not"
   ]
  },
  {
   "cell_type": "code",
   "execution_count": null,
   "metadata": {
    "collapsed": true
   },
   "outputs": [],
   "source": [
    "def f1():\n",
    "    return round(24.601 / 0.0, 4)"
   ]
  },
  {
   "cell_type": "markdown",
   "metadata": {},
   "source": [
    "want exception data"
   ]
  },
  {
   "cell_type": "code",
   "execution_count": null,
   "metadata": {},
   "outputs": [],
   "source": [
    "try:\n",
    "    result = f1()\n",
    "except (ZeroDivisionError, FloatingPointError) as e:\n",
    "    print(10 * '-')\n",
    "    print(\"Incorrect calculation: {!r}\".format(e))\n",
    "    print(10 * '-')\n"
   ]
  },
  {
   "cell_type": "code",
   "execution_count": null,
   "metadata": {
    "collapsed": true
   },
   "outputs": [],
   "source": [
    "my_arr = [1, 2]\n",
    "my_map = {'0a0': 1, '0b1': 2}\n",
    "\n",
    "def f2():\n",
    "    ret = my_arr[2]\n",
    "    #ret = my_map[0b1]\n",
    "    return ret"
   ]
  },
  {
   "cell_type": "markdown",
   "metadata": {},
   "source": [
    "want just information that given types of exceptions occured (no exception data)"
   ]
  },
  {
   "cell_type": "code",
   "execution_count": null,
   "metadata": {},
   "outputs": [],
   "source": [
    "try:\n",
    "    result = f2()\n",
    "except (IndexError, KeyError):\n",
    "    print(10 * '-')\n",
    "    print(\"Data structure lookup error - can't find element you want\")\n",
    "    print(10 * '-')"
   ]
  },
  {
   "cell_type": "markdown",
   "metadata": {
    "collapsed": true
   },
   "source": [
    "### How should we handle?"
   ]
  },
  {
   "cell_type": "markdown",
   "metadata": {},
   "source": [
    "#### What do you think about the code below?"
   ]
  },
  {
   "cell_type": "code",
   "execution_count": null,
   "metadata": {},
   "outputs": [],
   "source": [
    "try:                             \n",
    "    print(10/0)\n",
    "except IndexError:\n",
    "     print(\"A\")     \n",
    "except Exception:\n",
    "     print(\"B\")  \n",
    "except ZeroDivisionError:\n",
    "     print(\"C\" )    \n",
    "except:\n",
    "    print(\"D\")\n",
    "else:\n",
    "     print(\"E\")              # run if no exception raised\n",
    "finally:\n",
    "     print(\"F\")          # always called (was exception or not)\n",
    "\n",
    "print(\"G\") "
   ]
  },
  {
   "cell_type": "markdown",
   "metadata": {},
   "source": [
    "### How should we raise?"
   ]
  },
  {
   "cell_type": "markdown",
   "metadata": {},
   "source": [
    "#### Do you see any problems with below code?"
   ]
  },
  {
   "cell_type": "code",
   "execution_count": null,
   "metadata": {},
   "outputs": [],
   "source": [
    "try:\n",
    "    raise 10\n",
    "# this will catch ALL exceptions (don't do this unless you know what you are doing!)\n",
    "except:\n",
    "    print(\"CATCHED \")"
   ]
  },
  {
   "cell_type": "markdown",
   "metadata": {},
   "source": [
    "#### explanation"
   ]
  },
  {
   "cell_type": "code",
   "execution_count": null,
   "metadata": {
    "collapsed": true
   },
   "outputs": [],
   "source": [
    "raise 10"
   ]
  },
  {
   "cell_type": "markdown",
   "metadata": {},
   "source": [
    "Every exception **must** derive from BaseException!"
   ]
  },
  {
   "cell_type": "markdown",
   "metadata": {},
   "source": [
    "#### Excercise 3\n",
    "\n",
    "Create your own Exception class to handle the problem in Excercise 1 (Part 1 day 2) and then catch all yours exceptions."
   ]
  },
  {
   "cell_type": "markdown",
   "metadata": {},
   "source": [
    "#### Assertions\n"
   ]
  },
  {
   "cell_type": "code",
   "execution_count": null,
   "metadata": {},
   "outputs": [],
   "source": [
    "# Useful in testing but not only created for that purpouse.\n",
    "# Instead of using if something and then raise Exception use simple assert in order to quickly alert about the bug found.\n",
    "\n",
    "\n",
    "def function(value_1, value_2):\n",
    "    assert type(value_1) == int, \"Incorrect value given\"\n",
    "    return value_1 * value_2\n",
    "\n",
    "function(1,2)\n",
    "function('str', 1)"
   ]
  }
 ],
 "metadata": {
  "kernelspec": {
   "display_name": "Python 3",
   "language": "python",
   "name": "python3"
  },
  "language_info": {
   "codemirror_mode": {
    "name": "ipython",
    "version": 3
   },
   "file_extension": ".py",
   "mimetype": "text/x-python",
   "name": "python",
   "nbconvert_exporter": "python",
   "pygments_lexer": "ipython3",
   "version": "3.6.7"
  }
 },
 "nbformat": 4,
 "nbformat_minor": 2
}
