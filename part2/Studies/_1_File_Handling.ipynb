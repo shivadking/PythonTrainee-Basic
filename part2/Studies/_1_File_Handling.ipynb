{
 "cells": [
  {
   "cell_type": "markdown",
   "metadata": {},
   "source": [
    "# File Handling"
   ]
  },
  {
   "cell_type": "markdown",
   "metadata": {},
   "source": [
    "Python too supports file handling and allows users to handle files i.e., to read and write files, along with many other file handling options, to operate on files.\n",
    "\n",
    "Python treats file differently as text or binary and this is important. Each line of code includes a sequence of characters and they form text file. Each line of a file is terminated with a special character, called the EOL or End of Line characters like comma {,} or newline character.\n",
    "\n",
    "It ends the current line and tells the interpreter a new one has begun."
   ]
  },
  {
   "cell_type": "markdown",
   "metadata": {},
   "source": [
    "## Working of open() function "
   ]
  },
  {
   "cell_type": "markdown",
   "metadata": {},
   "source": [
    "We use open () function in Python to open a file in read or write mode. As explained above, open ( ) will return a file object.\n",
    "\n",
    "To return a file object we use open() function along with two arguments, that accepts file name and the mode, whether to read or write.\n",
    "\n",
    "So, the syntax being: File_object = open(r\"File_Name\", \"Access_Mode\")"
   ]
  },
  {
   "cell_type": "markdown",
   "metadata": {},
   "source": [
    "There are three kinds of mode, that Python provides and how files can be opened:\n",
    "   \n",
    "        • Read Only ('r'): Open text file for reading. The handle is positioned at the beginning of the file. If the file does not exist, raises I/O error. This is also the default mode in which the file is opened.\n",
    "        \n",
    "        • Read and Write ('r+'): Open the file for reading and writing. The handle is positioned at the beginning of the file. Raises I/O error if the file does not exist.\n",
    "        \n",
    "        • Write Only ('w'): Open the file for writing. For existing file, the data is truncated and over-written. The handle is positioned at the beginning of the file. Creates the file if the file does not exist.\n",
    "        \n",
    "        • Write and Read ('w+'): Open the file for reading and writing. For existing file, data is truncated and over-written. The handle is positioned at the beginning of the file.\n",
    "        \n",
    "        • Append Only ('a'): Open the file for writing. The file is created if it does not exist. The handle is positioned at the end of the file. The data being written will be inserted at the end, after the existing data.\n",
    "        \n",
    "        • Append and Read ('a+'): Open the file for reading and writing. The file is created if it does not exist. The handle is positioned at the end of the file. The data being written will be inserted at the end, after the existing data."
   ]
  },
  {
   "cell_type": "markdown",
   "metadata": {},
   "source": [
    "Note :\n",
    "    \n",
    "    One must keep in mind that the mode argument is not mandatory. If not passed, then Python will assume it to be “ r ” by default."
   ]
  },
  {
   "cell_type": "code",
   "execution_count": 24,
   "metadata": {},
   "outputs": [],
   "source": [
    "# a file named \"file_handling\", will be opened with the reading mode.\n",
    "file = open('file_handling.txt', 'r')\n",
    "# This will print every line one by one in the file\n",
    "for each in file:\n",
    "    print (each)\n",
    "#The open command will open the file in the read mode and the for loop will print each line present in the file."
   ]
  },
  {
   "cell_type": "markdown",
   "metadata": {},
   "source": [
    "## Working of read() mode "
   ]
  },
  {
   "cell_type": "markdown",
   "metadata": {},
   "source": [
    "### To extract a string that contains all characters in the file "
   ]
  },
  {
   "cell_type": "code",
   "execution_count": 25,
   "metadata": {},
   "outputs": [],
   "source": [
    "# Python code to illustrate read() mode\n",
    "file = open(\"file_handling.txt\", \"r\") \n",
    "print (file.read())"
   ]
  },
  {
   "cell_type": "markdown",
   "metadata": {},
   "source": [
    "### To read the first five characters of stored data and return it as a string"
   ]
  },
  {
   "cell_type": "code",
   "execution_count": 26,
   "metadata": {},
   "outputs": [],
   "source": [
    "# Python code to illustrate read() mode character wise\n",
    "file = open(\"file_handling.txt\", \"r\")\n",
    "print (file.read(5))"
   ]
  },
  {
   "cell_type": "markdown",
   "metadata": {},
   "source": [
    "## Creating a file using write() mode "
   ]
  },
  {
   "cell_type": "code",
   "execution_count": 10,
   "metadata": {},
   "outputs": [],
   "source": [
    "# Python code to create a file\n",
    "file = open('file_handling_1.txt','w')\n",
    "file.write(\"This is the write command\")\n",
    "file.write(\"It allows us to write in a particular file\")\n",
    "file.close()\n",
    "#The close() command terminates all the resources in use and frees the system of this particular program."
   ]
  },
  {
   "cell_type": "markdown",
   "metadata": {},
   "source": [
    "## Working of append() mode "
   ]
  },
  {
   "cell_type": "code",
   "execution_count": 11,
   "metadata": {},
   "outputs": [],
   "source": [
    "# Python code to illustrate append() mode\n",
    "file = open('file_handling_1.txt','a')\n",
    "file.write(\"This will add this line\")\n",
    "file.close()"
   ]
  },
  {
   "cell_type": "markdown",
   "metadata": {},
   "source": [
    "## with() function "
   ]
  },
  {
   "cell_type": "markdown",
   "metadata": {},
   "source": [
    "It is designed to provide much cleaner syntax and exceptions handling when you are working with code. \n",
    "\n",
    "That explains why it’s good practice to use them with a statement where applicable. \n",
    "\n",
    "This is helpful because using this method any files opened will be closed automatically after one is done, so auto-cleanup."
   ]
  },
  {
   "cell_type": "code",
   "execution_count": 27,
   "metadata": {},
   "outputs": [],
   "source": [
    "# Python code to illustrate with()\n",
    "with open(\"file_handling.txt\") as file:  \n",
    "    data = file.read() \n",
    "    print(data)\n",
    "# do something with data "
   ]
  },
  {
   "cell_type": "markdown",
   "metadata": {},
   "source": [
    "### Using write along with with() function "
   ]
  },
  {
   "cell_type": "code",
   "execution_count": 14,
   "metadata": {},
   "outputs": [],
   "source": [
    "# Python code to illustrate with() alongwith write()\n",
    "with open(\"file_handling_2.txt\", \"w\") as f: \n",
    "    f.write(\"Hello World!!!\") "
   ]
  },
  {
   "cell_type": "markdown",
   "metadata": {},
   "source": [
    "### split() using file handling "
   ]
  },
  {
   "cell_type": "code",
   "execution_count": 28,
   "metadata": {},
   "outputs": [],
   "source": [
    "# Python code to illustrate split() function\n",
    "with open(\"file_handling.txt\", \"r\") as file:\n",
    "    data = file.readlines()\n",
    "    print(data)\n",
    "    for line in data:\n",
    "        word = line.split()\n",
    "        print (word)"
   ]
  },
  {
   "cell_type": "markdown",
   "metadata": {},
   "source": [
    ".read()\n",
    "    \n",
    "    The read() method returns the specified number of bytes from the file. Default is -1 which means the whole file.\n",
    "\n",
    "\n",
    ".readlines()\n",
    "    \n",
    "    Return all lines in the file, as a list where each line is an item in the list object"
   ]
  }
 ],
 "metadata": {
  "kernelspec": {
   "display_name": "Python 3",
   "language": "python",
   "name": "python3"
  },
  "language_info": {
   "codemirror_mode": {
    "name": "ipython",
    "version": 3
   },
   "file_extension": ".py",
   "mimetype": "text/x-python",
   "name": "python",
   "nbconvert_exporter": "python",
   "pygments_lexer": "ipython3",
   "version": "3.6.7"
  }
 },
 "nbformat": 4,
 "nbformat_minor": 2
}
